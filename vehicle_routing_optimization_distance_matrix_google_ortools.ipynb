{
  "nbformat": 4,
  "nbformat_minor": 0,
  "metadata": {
    "colab": {
      "provenance": [],
      "authorship_tag": "ABX9TyO5hbNMOPy0D6sSD3Wk03CN",
      "include_colab_link": true
    },
    "kernelspec": {
      "name": "python3",
      "display_name": "Python 3"
    },
    "language_info": {
      "name": "python"
    }
  },
  "cells": [
    {
      "cell_type": "markdown",
      "metadata": {
        "id": "view-in-github",
        "colab_type": "text"
      },
      "source": [
        "<a href=\"https://colab.research.google.com/github/myrondza10/vehicle_routing_optimization_eta_travel_time_matrix/blob/main/vehicle_routing_optimization_distance_matrix_google_ortools.ipynb\" target=\"_parent\"><img src=\"https://colab.research.google.com/assets/colab-badge.svg\" alt=\"Open In Colab\"/></a>"
      ]
    },
    {
      "cell_type": "code",
      "execution_count": 11,
      "metadata": {
        "colab": {
          "base_uri": "https://localhost:8080/"
        },
        "id": "WFSw0z733BU3",
        "outputId": "fb1fcd60-f25e-4751-ff52-722bae9e08af"
      },
      "outputs": [
        {
          "output_type": "stream",
          "name": "stdout",
          "text": [
            "Requirement already satisfied: ortools in /usr/local/lib/python3.10/dist-packages (9.10.4067)\n",
            "Requirement already satisfied: absl-py>=2.0.0 in /usr/local/lib/python3.10/dist-packages (from ortools) (2.1.0)\n",
            "Requirement already satisfied: numpy>=1.13.3 in /usr/local/lib/python3.10/dist-packages (from ortools) (1.25.2)\n",
            "Requirement already satisfied: pandas>=2.0.0 in /usr/local/lib/python3.10/dist-packages (from ortools) (2.0.3)\n",
            "Requirement already satisfied: protobuf>=5.26.1 in /usr/local/lib/python3.10/dist-packages (from ortools) (5.27.2)\n",
            "Requirement already satisfied: immutabledict>=3.0.0 in /usr/local/lib/python3.10/dist-packages (from ortools) (4.2.0)\n",
            "Requirement already satisfied: python-dateutil>=2.8.2 in /usr/local/lib/python3.10/dist-packages (from pandas>=2.0.0->ortools) (2.8.2)\n",
            "Requirement already satisfied: pytz>=2020.1 in /usr/local/lib/python3.10/dist-packages (from pandas>=2.0.0->ortools) (2024.1)\n",
            "Requirement already satisfied: tzdata>=2022.1 in /usr/local/lib/python3.10/dist-packages (from pandas>=2.0.0->ortools) (2024.1)\n",
            "Requirement already satisfied: six>=1.5 in /usr/local/lib/python3.10/dist-packages (from python-dateutil>=2.8.2->pandas>=2.0.0->ortools) (1.16.0)\n"
          ]
        }
      ],
      "source": [
        "!pip install ortools"
      ]
    },
    {
      "cell_type": "code",
      "source": [
        "from ortools.constraint_solver import routing_enums_pb2\n",
        "from ortools.constraint_solver import pywrapcp\n",
        "\n",
        "\n",
        "def create_data_model():\n",
        "    data = {}\n",
        "    data[\"distance_matrix\"] = [\n",
        "      [0, 548, 776, 696, 582, 274, 502, 194, 308, 194, 536, 502, 388, 354, 468, 776, 662],\n",
        "      [548, 0, 684, 308, 194, 502, 730, 354, 696, 742, 1084, 594, 480, 674, 1016, 868, 1210],\n",
        "      [776, 684, 0, 992, 878, 502, 274, 810, 468, 742, 400, 1278, 1164, 1130, 788, 1552, 754],\n",
        "      [696, 308, 992, 0, 114, 650, 878, 502, 844, 890, 1232, 514, 628, 822, 1164, 560, 1358],\n",
        "      [582, 194, 878, 114, 0, 536, 764, 388, 730, 776, 1118, 400, 514, 708, 1050, 674, 1244],\n",
        "      [274, 502, 502, 650, 536, 0, 228, 308, 194, 240, 582, 776, 662, 628, 514, 1050, 708],\n",
        "      [502, 730, 274, 878, 764, 228, 0, 536, 194, 468, 354, 1004, 890, 856, 514, 1278, 480],\n",
        "      [194, 354, 810, 502, 388, 308, 536, 0, 342, 388, 730, 468, 354, 320, 662, 742, 856],\n",
        "      [308, 696, 468, 844, 730, 194, 194, 342, 0, 274, 388, 810, 696, 662, 320, 1084, 514],\n",
        "      [194, 742, 742, 890, 776, 240, 468, 388, 274, 0, 342, 536, 422, 388, 274, 810, 468],\n",
        "      [536, 1084, 400, 1232, 1118, 582, 354, 730, 388, 342, 0, 878, 764, 730, 388, 1152, 354],\n",
        "      [502, 594, 1278, 514, 400, 776, 1004, 468, 810, 536, 878, 0, 114, 308, 650, 274, 844],\n",
        "      [388, 480, 1164, 628, 514, 662, 890, 354, 696, 422, 764, 114, 0, 194, 536, 388, 730],\n",
        "      [354, 674, 1130, 822, 708, 628, 856, 320, 662, 388, 730, 308, 194, 0, 342, 422, 536],\n",
        "      [468, 1016, 788, 1164, 1050, 514, 514, 662, 320, 274, 388, 650, 536, 342, 0, 764, 194],\n",
        "      [776, 868, 1552, 560, 674, 1050, 1278, 742, 1084, 810, 1152, 274, 388, 422, 764, 0, 798],\n",
        "      [662, 1210, 754, 1358, 1244, 708, 480, 856, 514, 468, 354, 844, 730, 536, 194, 798, 0]\n",
        "    ]\n",
        "    data[\"num_vehicles\"] = 4\n",
        "    data[\"depot\"] = 0\n",
        "    return data"
      ],
      "metadata": {
        "id": "Rrc5GMki3gI0"
      },
      "execution_count": 2,
      "outputs": []
    },
    {
      "cell_type": "code",
      "source": [
        "def print_solution(data, manager, routing, solution):\n",
        "    \"\"\"Prints solution on console.\"\"\"\n",
        "    print(f\"Objective: {solution.ObjectiveValue()}\")\n",
        "    total_distance = 0\n",
        "    for vehicle_id in range(data[\"num_vehicles\"]):\n",
        "        index = routing.Start(vehicle_id)\n",
        "        plan_output = f\"Route for vehicle {vehicle_id}:\\n\"\n",
        "        route_distance = 0\n",
        "        while not routing.IsEnd(index):\n",
        "            plan_output += f\" {manager.IndexToNode(index)} ->\"\n",
        "            previous_index = index\n",
        "            index = solution.Value(routing.NextVar(index))\n",
        "            route_distance += routing.GetArcCostForVehicle(\n",
        "                previous_index, index, vehicle_id\n",
        "            )\n",
        "        plan_output += f\" {manager.IndexToNode(index)}\\n\"\n",
        "        plan_output += f\"Distance of the route: {route_distance}m\\n\"\n",
        "        print(plan_output)\n",
        "        total_distance += route_distance\n",
        "    print(f\"Total Distance of all routes: {total_distance}m\")"
      ],
      "metadata": {
        "id": "y0VTZsi93oZK"
      },
      "execution_count": 3,
      "outputs": []
    },
    {
      "cell_type": "code",
      "source": [
        "def distance_callback(from_index, to_index):\n",
        "      \"\"\"Returns the distance between the two nodes.\"\"\"\n",
        "      from_node = manager.IndexToNode(from_index)\n",
        "      to_node = manager.IndexToNode(to_index)\n",
        "      return data[\"distance_matrix\"][from_node][to_node]"
      ],
      "metadata": {
        "id": "08sKZeKe4Ekf"
      },
      "execution_count": 8,
      "outputs": []
    },
    {
      "cell_type": "code",
      "source": [
        "data = create_data_model()"
      ],
      "metadata": {
        "id": "27nP1zGX3xWU"
      },
      "execution_count": 5,
      "outputs": []
    },
    {
      "cell_type": "code",
      "source": [
        "manager = pywrapcp.RoutingIndexManager(len(data[\"distance_matrix\"]), data[\"num_vehicles\"], data[\"depot\"])\n",
        "routing = pywrapcp.RoutingModel(manager)"
      ],
      "metadata": {
        "id": "8sgQIwOx3th7"
      },
      "execution_count": 9,
      "outputs": []
    },
    {
      "cell_type": "code",
      "source": [
        "transit_callback_index = routing.RegisterTransitCallback(distance_callback)\n",
        "\n",
        "# Define cost of each arc.\n",
        "routing.SetArcCostEvaluatorOfAllVehicles(transit_callback_index)\n",
        "\n",
        "# Setting first solution heuristic.\n",
        "search_parameters = pywrapcp.DefaultRoutingSearchParameters()\n",
        "search_parameters.first_solution_strategy = (\n",
        "        routing_enums_pb2.FirstSolutionStrategy.PATH_CHEAPEST_ARC\n",
        "    )\n",
        "\n",
        "# Solve the problem.\n",
        "solution = routing.SolveWithParameters(search_parameters)\n",
        "\n",
        "# Print solution on console.\n",
        "if solution:\n",
        "    print_solution(data, manager, routing, solution)\n",
        "else:\n",
        "    print(\"No solution found !\")"
      ],
      "metadata": {
        "colab": {
          "base_uri": "https://localhost:8080/"
        },
        "id": "0KotmWfV3-Vu",
        "outputId": "0136174e-9104-4637-ab52-d466c473344c"
      },
      "execution_count": 10,
      "outputs": [
        {
          "output_type": "stream",
          "name": "stdout",
          "text": [
            "Objective: 4384\n",
            "Route for vehicle 0:\n",
            " 0 -> 0\n",
            "Distance of the route: 0m\n",
            "\n",
            "Route for vehicle 1:\n",
            " 0 -> 0\n",
            "Distance of the route: 0m\n",
            "\n",
            "Route for vehicle 2:\n",
            " 0 -> 0\n",
            "Distance of the route: 0m\n",
            "\n",
            "Route for vehicle 3:\n",
            " 0 -> 9 -> 5 -> 8 -> 6 -> 2 -> 10 -> 16 -> 14 -> 13 -> 12 -> 11 -> 15 -> 3 -> 4 -> 1 -> 7 -> 0\n",
            "Distance of the route: 4384m\n",
            "\n",
            "Total Distance of all routes: 4384m\n"
          ]
        }
      ]
    },
    {
      "cell_type": "code",
      "source": [],
      "metadata": {
        "id": "WZA6dTke4eES"
      },
      "execution_count": null,
      "outputs": []
    }
  ]
}